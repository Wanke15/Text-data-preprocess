{
 "cells": [
  {
   "cell_type": "code",
   "execution_count": 10,
   "metadata": {},
   "outputs": [],
   "source": [
    "import json\n",
    "from bs4 import BeautifulSoup"
   ]
  },
  {
   "cell_type": "code",
   "execution_count": 1,
   "metadata": {},
   "outputs": [],
   "source": [
    "import requests\n",
    "\n",
    "url = ('https://newsapi.org/v2/everything?'\n",
    "       'q=construction&'\n",
    "       'from=2008-06-12&'\n",
    "       'apiKey=cb156e54a4924833911f56d6b4f899d1')\n",
    "\n",
    "response = requests.get(url)\n",
    "text = response.text"
   ]
  },
  {
   "cell_type": "code",
   "execution_count": 4,
   "metadata": {},
   "outputs": [],
   "source": [
    "news = json.loads(text)"
   ]
  },
  {
   "cell_type": "code",
   "execution_count": 15,
   "metadata": {},
   "outputs": [],
   "source": [
    "news_urls = []\n",
    "for article in news['articles']:\n",
    "    news_urls.append(article['url'])"
   ]
  },
  {
   "cell_type": "code",
   "execution_count": 12,
   "metadata": {},
   "outputs": [],
   "source": [
    "def strip_html(html):\n",
    "    soup=BeautifulSoup(html,'html.parser')\n",
    "    soup.prettify()\n",
    "    tds = soup.find_all('p')\n",
    "    \n",
    "    td_content=[]\n",
    "    for i in tds:\n",
    "        td_content.append(i.text)\n",
    "        \n",
    "    with open(\"test.txt\", 'a', encoding='utf8') as f:\n",
    "        for i in td_content:\n",
    "            f.write(' ')\n",
    "            f.write(i)\n",
    "    print(\"Finished!!!\")\n"
   ]
  },
  {
   "cell_type": "code",
   "execution_count": 20,
   "metadata": {},
   "outputs": [],
   "source": [
    "html = requests.get(news_urls[2]).text"
   ]
  },
  {
   "cell_type": "code",
   "execution_count": 23,
   "metadata": {},
   "outputs": [
    {
     "data": {
      "text/plain": [
       "'http://gfxbing.com/graphic-ebooks/819533-construction-law-construction-practice-series.html'"
      ]
     },
     "execution_count": 23,
     "metadata": {},
     "output_type": "execute_result"
    }
   ],
   "source": [
    "news_urls[2]"
   ]
  },
  {
   "cell_type": "code",
   "execution_count": 21,
   "metadata": {},
   "outputs": [
    {
     "name": "stdout",
     "output_type": "stream",
     "text": [
      "Finished!!!\n"
     ]
    }
   ],
   "source": [
    "strip_html(html)"
   ]
  },
  {
   "cell_type": "code",
   "execution_count": 24,
   "metadata": {},
   "outputs": [
    {
     "name": "stdout",
     "output_type": "stream",
     "text": [
      "http://feedproxy.google.com/~r/avaxhome/bojL/~3/ovoxu266bG4/1138800422.html\n",
      "https://platycerium.deviantart.com/art/Construction-730153706\n",
      "http://gfxbing.com/graphic-ebooks/819533-construction-law-construction-practice-series.html\n",
      "https://meredithiler.deviantart.com/art/Construction-724827262\n",
      "https://dribbble.com/shots/4612493-Construction\n",
      "https://slashdot.org/submission/7991519/sr-construction--best-construction-company\n",
      "https://gnartes.deviantart.com/art/construction-721334275\n",
      "https://kpekep.deviantart.com/art/Construction-706821764\n",
      "https://www.flickr.com/photos/chocolate_chips/37252055580\n",
      "http://digitalcommons.law.yale.edu/ylj/vol6/iss2/1/\n",
      "https://dribbble.com/shots/3876033-Construction\n",
      "https://dribbble.com/shots/4640863-Construction\n",
      "http://www.rte.ie/cspodcasts/media.mp3?c1=2&c2=16951747&ns_site=test&ns_type=clickin&rte_vs_ct=aud&rte_vs_sc=pod&rte_mt_sec=radio&rte_vs_sn=radio1&rte_mt_pub_dt=2017-12-02&rte_mt_prg_name=test-thebusiness&title=Construction&c7=http%3A%2F%2Fpodcast.rasset.ie%2Fpodcasts%2Faudio%2F2017%2F1202%2F20171202_rteradio1-thebusiness-constructi_c21281154_21281165_232_.mp3&r=http%3A%2F%2Fpodcast.rasset.ie%2Fpodcasts%2Faudio%2F2017%2F1202%2F20171202_rteradio1-thebusiness-constructi_c21281154_21281165_232_.mp3\n",
      "https://www.flickr.com/photos/80771518@N02/36913687694\n",
      "https://dribbble.com/shots/3865284-Construction\n",
      "https://dribbble.com/shots/3942269-Construction\n",
      "https://sweetishdruid.deviantart.com/art/Construction-717099613\n",
      "https://nooreva.deviantart.com/art/construction-733240194\n",
      "https://dribbble.com/shots/4142698-Construction\n",
      "https://toastspirit.deviantart.com/art/construction-741537418\n"
     ]
    }
   ],
   "source": [
    "for i in news_urls:\n",
    "    print(i)"
   ]
  },
  {
   "cell_type": "code",
   "execution_count": 26,
   "metadata": {},
   "outputs": [
    {
     "data": {
      "text/plain": [
       "3"
      ]
     },
     "execution_count": 26,
     "metadata": {},
     "output_type": "execute_result"
    }
   ],
   "source": [
    "len(news)"
   ]
  },
  {
   "cell_type": "code",
   "execution_count": null,
   "metadata": {},
   "outputs": [],
   "source": []
  }
 ],
 "metadata": {
  "kernelspec": {
   "display_name": "Python 3",
   "language": "python",
   "name": "python3"
  },
  "language_info": {
   "codemirror_mode": {
    "name": "ipython",
    "version": 3
   },
   "file_extension": ".py",
   "mimetype": "text/x-python",
   "name": "python",
   "nbconvert_exporter": "python",
   "pygments_lexer": "ipython3",
   "version": "3.6.4"
  }
 },
 "nbformat": 4,
 "nbformat_minor": 2
}
